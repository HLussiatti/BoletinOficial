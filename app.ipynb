{
 "cells": [
  {
   "cell_type": "markdown",
   "id": "ae3259cf",
   "metadata": {},
   "source": [
    "# Imports & Database"
   ]
  },
  {
   "cell_type": "code",
   "execution_count": 2,
   "id": "422d7ad3",
   "metadata": {},
   "outputs": [],
   "source": [
    "import requests\n",
    "from bs4 import BeautifulSoup\n",
    "from html import unescape\n",
    "from datetime import date\n",
    "import pandas as pd\n",
    "import logging\n",
    "import os\n",
    "from functions import post, parse, nuevos_avisos, guardar_avisos\n",
    "import base64"
   ]
  },
  {
   "cell_type": "code",
   "execution_count": 3,
   "id": "3d16fca1",
   "metadata": {},
   "outputs": [],
   "source": [
    "palabras_clave = {'energía','energético'}"
   ]
  },
  {
   "cell_type": "code",
   "execution_count": 4,
   "id": "dc8831b9",
   "metadata": {},
   "outputs": [],
   "source": [
    "# Cargar la base de datos existente\n",
    "database = pd.read_excel('database.xlsx')\n",
    "database = database.drop(index=database.index)"
   ]
  },
  {
   "cell_type": "markdown",
   "id": "6c9bf906",
   "metadata": {},
   "source": [
    "# Logger"
   ]
  },
  {
   "cell_type": "code",
   "execution_count": 5,
   "id": "fd3ad59e",
   "metadata": {},
   "outputs": [],
   "source": [
    "# Configurar logger\n",
    "logging.basicConfig(\n",
    "    filename='boletin_errors.log',\n",
    "    level=logging.INFO,\n",
    "    format='%(asctime)s [%(levelname)s] %(message)s',\n",
    "    datefmt='%Y-%m-%d %H:%M:%S'\n",
    ")"
   ]
  },
  {
   "cell_type": "markdown",
   "id": "3c20be98",
   "metadata": {},
   "source": [
    "# Descarga pdfs"
   ]
  },
  {
   "cell_type": "code",
   "execution_count": 6,
   "id": "090cd72e",
   "metadata": {},
   "outputs": [],
   "source": [
    "def descargar_pdf(link, output_dir=\"pdfs\"):\n",
    "    \"\"\"\n",
    "    Descarga el PDF desde un link del Boletín Oficial, solo si no existe.\n",
    "    Maneja correctamente la URL de redirección para obtener el archivo PDF real.\n",
    "    \"\"\"\n",
    "\n",
    "    # Extraer tipo, número y fecha desde el link original\n",
    "    partes = link.split('/')\n",
    "    seccion = partes[-3]\n",
    "    id_aviso = partes[-2]\n",
    "    fecha_publicacion = partes[-1].split('?')[0]\n",
    "\n",
    "    # Construir URL que apunta al visor\n",
    "    #url_pdf_viewer = f\"https://www.boletinoficial.gob.ar/web/utils/pdfView?file=%2Fpdf%2Faviso%2F{seccion}%2F{id_aviso}%2F{fecfecha_publicacionha}\"\n",
    "    file_name = f\"{id_aviso}_{fecha_publicacion}.pdf\"\n",
    "\n",
    "\n",
    "    # URL del endpoint\n",
    "    url_pdf = \"https://www.boletinoficial.gob.ar/avisos/pdf/getAvisoPdf\"\n",
    "\n",
    "    # Headers necesarios\n",
    "    headers = {\n",
    "        \"Referer\": f\"https://www.boletinoficial.gob.ar/detalleAviso/{seccion}/{id_aviso}/{fecha_publicacion}\",\n",
    "        \"User-Agent\": \"Mozilla/5.0\",\n",
    "        \"X-Requested-With\": \"XMLHttpRequest\"\n",
    "    }\n",
    "\n",
    "    # Payload de la solicitud\n",
    "    data = {\n",
    "        \"nombreSeccion\": seccion,\n",
    "        \"idAviso\": id_aviso,\n",
    "        \"fechaPublicacion\": fecha_publicacion\n",
    "    }\n",
    "\n",
    "    # Realizar el POST\n",
    "    response = requests.post(url_pdf, headers=headers, data=data)\n",
    "\n",
    "    # Revisar la respuesta\n",
    "    if response.status_code == 200:\n",
    "        json_data = response.json()\n",
    "        if 'pdfBase64' in json_data and json_data['pdfBase64']:\n",
    "            pdf_base64 = json_data['pdfBase64']\n",
    "            pdf_bytes = base64.b64decode(pdf_base64)\n",
    "\n",
    "            with open(file_name, \"wb\") as f:\n",
    "                f.write(pdf_bytes)\n",
    "\n",
    "            print(f\"PDF guardado como {file_name}\")\n",
    "        else:\n",
    "            print(\"⚠️ No se encontró el PDF en la respuesta.\")\n",
    "    else:\n",
    "        print(f\"❌ Error HTTP {response.status_code}\")\n",
    "    # try:\n",
    "    #     os.makedirs(output_dir, exist_ok=True)\n",
    "\n",
    "    #     partes = link_aviso.split(\"/detalleAviso/\")[1].split(\"?\")[0].split(\"/\")\n",
    "    #     tipo, numero, fecha = partes\n",
    "\n",
    "    #     pdf_url = f\"https://www.boletinoficial.gob.ar/web/utils/pdfView?file=%2Fpdf%2Faviso%2F{tipo}%2F{numero}%2F{fecha}\"\n",
    "    #     nombre_archivo = f\"{numero}_{fecha}.pdf\"\n",
    "    #     ruta_completa = os.path.join(output_dir, nombre_archivo)\n",
    "\n",
    "    #     response = requests.get(pdf_url)\n",
    "    #     print (response.status_code)\n",
    "    #     if response.status_code == 200:\n",
    "    #         with open(ruta_completa, \"wb\") as f:\n",
    "    #             f.write(response.content)\n",
    "    #         logging.info(f\"PDF descargado: {nombre_archivo}\")\n",
    "    #         return ruta_completa\n",
    "    #     else:\n",
    "    #         logging.warning(f\"No se pudo descargar el PDF: {pdf_url}\")\n",
    "    #         return None\n",
    "    # except Exception as e:\n",
    "    #     logging.error(f\"Error al descargar PDF de {link_aviso}: {e}\")\n",
    "    #     return None"
   ]
  },
  {
   "cell_type": "code",
   "execution_count": 7,
   "id": "84382cd9",
   "metadata": {},
   "outputs": [],
   "source": [
    "avisos_totales = []\n",
    "for palabra in palabras_clave :\n",
    "    try:\n",
    "        response = post(palabra)\n",
    "        if response.status_code == 200:\n",
    "            datos = response.json()\n",
    "            avisos_totales.extend(parse(datos))\n",
    "        else:\n",
    "            logging.warning(f\"Error al buscar '{palabra}': Código {response.status_code}\")\n",
    "    except Exception as e:\n",
    "        logging.error(f\"Fallo la búsqueda para '{palabra}': {e}\")"
   ]
  },
  {
   "cell_type": "code",
   "execution_count": 8,
   "id": "b5a24c1f",
   "metadata": {},
   "outputs": [],
   "source": [
    "if avisos_totales is not None:\n",
    "    df_nuevos_avisos = nuevos_avisos(avisos_totales, database)"
   ]
  },
  {
   "cell_type": "code",
   "execution_count": 9,
   "id": "e0a841e3",
   "metadata": {},
   "outputs": [],
   "source": [
    "if not df_nuevos_avisos.empty:\n",
    "    guardar_avisos(df_nuevos_avisos,database)\n",
    "    for index, row in df_nuevos_avisos.iterrows():\n",
    "        link_aviso = row['Link']\n",
    "        #descargar_pdf(link_aviso)"
   ]
  },
  {
   "cell_type": "code",
   "execution_count": 11,
   "id": "033d5984",
   "metadata": {},
   "outputs": [
    {
     "data": {
      "text/html": [
       "<div>\n",
       "<style scoped>\n",
       "    .dataframe tbody tr th:only-of-type {\n",
       "        vertical-align: middle;\n",
       "    }\n",
       "\n",
       "    .dataframe tbody tr th {\n",
       "        vertical-align: top;\n",
       "    }\n",
       "\n",
       "    .dataframe thead th {\n",
       "        text-align: right;\n",
       "    }\n",
       "</style>\n",
       "<table border=\"1\" class=\"dataframe\">\n",
       "  <thead>\n",
       "    <tr style=\"text-align: right;\">\n",
       "      <th></th>\n",
       "      <th>Resolución</th>\n",
       "      <th>Ministerio</th>\n",
       "      <th>Link</th>\n",
       "      <th>Fecha de Publicación</th>\n",
       "      <th>Referencia</th>\n",
       "      <th>Contenido</th>\n",
       "      <th>Resumen</th>\n",
       "    </tr>\n",
       "  </thead>\n",
       "  <tbody>\n",
       "    <tr>\n",
       "      <th>0</th>\n",
       "      <td>Resolución 223/2025</td>\n",
       "      <td>SECRETARÍA DEENERGÍA</td>\n",
       "      <td>https://www.boletinoficial.gob.ar/detalleAviso...</td>\n",
       "      <td>Fecha de Publicacion: 28/05/2025</td>\n",
       "      <td>RESOL-2025-223-APN-SE#MEC</td>\n",
       "      <td>la Resolución Nº 61 de fecha 29 de abril de 19...</td>\n",
       "      <td>None</td>\n",
       "    </tr>\n",
       "    <tr>\n",
       "      <th>1</th>\n",
       "      <td>Resolución 224/2025</td>\n",
       "      <td>SECRETARÍA DEENERGÍA</td>\n",
       "      <td>https://www.boletinoficial.gob.ar/detalleAviso...</td>\n",
       "      <td>Fecha de Publicacion: 28/05/2025</td>\n",
       "      <td>RESOL-2025-224-APN-SE#MEC</td>\n",
       "      <td>la Resolución Nº 61 de fecha 29 de abril de 19...</td>\n",
       "      <td>None</td>\n",
       "    </tr>\n",
       "  </tbody>\n",
       "</table>\n",
       "</div>"
      ],
      "text/plain": [
       "            Resolución            Ministerio  \\\n",
       "0  Resolución 223/2025  SECRETARÍA DEENERGÍA   \n",
       "1  Resolución 224/2025  SECRETARÍA DEENERGÍA   \n",
       "\n",
       "                                                Link  \\\n",
       "0  https://www.boletinoficial.gob.ar/detalleAviso...   \n",
       "1  https://www.boletinoficial.gob.ar/detalleAviso...   \n",
       "\n",
       "               Fecha de Publicación                 Referencia  \\\n",
       "0  Fecha de Publicacion: 28/05/2025  RESOL-2025-223-APN-SE#MEC   \n",
       "1  Fecha de Publicacion: 28/05/2025  RESOL-2025-224-APN-SE#MEC   \n",
       "\n",
       "                                           Contenido Resumen  \n",
       "0  la Resolución Nº 61 de fecha 29 de abril de 19...    None  \n",
       "1  la Resolución Nº 61 de fecha 29 de abril de 19...    None  "
      ]
     },
     "execution_count": 11,
     "metadata": {},
     "output_type": "execute_result"
    }
   ],
   "source": [
    "df_nuevos_avisos"
   ]
  }
 ],
 "metadata": {
  "kernelspec": {
   "display_name": "Python 3",
   "language": "python",
   "name": "python3"
  },
  "language_info": {
   "codemirror_mode": {
    "name": "ipython",
    "version": 3
   },
   "file_extension": ".py",
   "mimetype": "text/x-python",
   "name": "python",
   "nbconvert_exporter": "python",
   "pygments_lexer": "ipython3",
   "version": "3.12.1"
  }
 },
 "nbformat": 4,
 "nbformat_minor": 5
}
