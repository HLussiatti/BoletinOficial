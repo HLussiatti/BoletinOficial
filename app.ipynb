{
 "cells": [
  {
   "cell_type": "markdown",
   "id": "ae3259cf",
   "metadata": {},
   "source": [
    "# Imports & Database"
   ]
  },
  {
   "cell_type": "code",
   "execution_count": 24,
   "id": "422d7ad3",
   "metadata": {},
   "outputs": [],
   "source": [
    "import pandas as pd\n",
    "import logging\n",
    "import os\n",
    "from functions import post, parse, nuevos_avisos, guardar_avisos, descargar_pdf\n",
    "# from NLP import extraer_texto_pdf, resumir_texto"
   ]
  },
  {
   "cell_type": "code",
   "execution_count": 25,
   "id": "3d16fca1",
   "metadata": {},
   "outputs": [],
   "source": [
    "palabras_clave = {'energía','energético'}"
   ]
  },
  {
   "cell_type": "code",
   "execution_count": 26,
   "id": "dc8831b9",
   "metadata": {},
   "outputs": [],
   "source": [
    "# Cargar la base de datos existente\n",
    "database = pd.read_excel('database.xlsx')\n",
    "database = database.drop(index=database.index)"
   ]
  },
  {
   "cell_type": "markdown",
   "id": "6c9bf906",
   "metadata": {},
   "source": [
    "# Logger"
   ]
  },
  {
   "cell_type": "code",
   "execution_count": 27,
   "id": "fd3ad59e",
   "metadata": {},
   "outputs": [],
   "source": [
    "# Configurar logger\n",
    "logging.basicConfig(\n",
    "    filename='boletin_errors.log',\n",
    "    level=logging.INFO,\n",
    "    format='%(asctime)s [%(levelname)s] %(message)s',\n",
    "    datefmt='%Y-%m-%d %H:%M:%S'\n",
    ")"
   ]
  },
  {
   "cell_type": "code",
   "execution_count": 28,
   "id": "84382cd9",
   "metadata": {},
   "outputs": [],
   "source": [
    "avisos_totales = []\n",
    "for palabra in palabras_clave :\n",
    "    try:\n",
    "        response = post(palabra)\n",
    "        if response.status_code == 200:\n",
    "            datos = response.json()\n",
    "            avisos_totales.extend(parse(datos))\n",
    "        else:\n",
    "            logging.warning(f\"Error al buscar '{palabra}': Código {response.status_code}\")\n",
    "    except Exception as e:\n",
    "        logging.error(f\"Fallo la búsqueda para '{palabra}': {e}\")"
   ]
  },
  {
   "cell_type": "code",
   "execution_count": 29,
   "id": "b5a24c1f",
   "metadata": {},
   "outputs": [],
   "source": [
    "if avisos_totales is not None:\n",
    "    df_nuevos_avisos = nuevos_avisos(avisos_totales, database)"
   ]
  },
  {
   "cell_type": "code",
   "execution_count": 30,
   "id": "b6fbcc6e",
   "metadata": {},
   "outputs": [
    {
     "ename": "ModuleNotFoundError",
     "evalue": "No module named 'frontend'",
     "output_type": "error",
     "traceback": [
      "\u001b[1;31m---------------------------------------------------------------------------\u001b[0m",
      "\u001b[1;31mModuleNotFoundError\u001b[0m                       Traceback (most recent call last)",
      "Cell \u001b[1;32mIn[30], line 2\u001b[0m\n\u001b[0;32m      1\u001b[0m \u001b[38;5;66;03m# from transformers import pipeline\u001b[39;00m\n\u001b[1;32m----> 2\u001b[0m \u001b[38;5;28;01mimport\u001b[39;00m \u001b[38;5;21;01mfitz\u001b[39;00m  \u001b[38;5;66;03m# PyMuPDF\u001b[39;00m\n\u001b[0;32m      3\u001b[0m \u001b[38;5;28;01mimport\u001b[39;00m \u001b[38;5;21;01mlogging\u001b[39;00m\n\u001b[0;32m      6\u001b[0m \u001b[38;5;66;03m# Inicializar el modelo de resumen\u001b[39;00m\n\u001b[0;32m      7\u001b[0m \u001b[38;5;66;03m# resumidor = pipeline(\"summarization\", model=\"facebook/bart-large-cnn\")\u001b[39;00m\n",
      "File \u001b[1;32mc:\\Users\\hlussiatti\\AppData\\Local\\Programs\\Python\\Python312\\Lib\\site-packages\\fitz\\__init__.py:1\u001b[0m\n\u001b[1;32m----> 1\u001b[0m \u001b[38;5;28;01mfrom\u001b[39;00m \u001b[38;5;21;01mfrontend\u001b[39;00m \u001b[38;5;28;01mimport\u001b[39;00m \u001b[38;5;241m*\u001b[39m\n\u001b[0;32m      2\u001b[0m \u001b[38;5;28;01mimport\u001b[39;00m \u001b[38;5;21;01mtools\u001b[39;00m\n\u001b[0;32m      3\u001b[0m \u001b[38;5;28;01mimport\u001b[39;00m \u001b[38;5;21;01mos\u001b[39;00m\u001b[38;5;21;01m.\u001b[39;00m\u001b[38;5;21;01mpath\u001b[39;00m \u001b[38;5;28;01mas\u001b[39;00m \u001b[38;5;21;01mop\u001b[39;00m\n",
      "\u001b[1;31mModuleNotFoundError\u001b[0m: No module named 'frontend'"
     ]
    }
   ],
   "source": [
    "# from transformers import pipeline\n",
    "import fitz  # PyMuPDF\n",
    "import logging\n",
    "\n",
    "\n",
    "# Inicializar el modelo de resumen\n",
    "# resumidor = pipeline(\"summarization\", model=\"facebook/bart-large-cnn\")\n",
    "\n",
    "def extraer_texto_pdf(ruta_pdf):\n",
    "    try:\n",
    "        doc = fitz.open(ruta_pdf)\n",
    "        texto = \"\"\n",
    "        for pagina in doc:\n",
    "            texto += pagina.get_text()\n",
    "        return texto.strip()\n",
    "    except Exception as e:\n",
    "        logging.error(f\"Error al extraer texto del PDF: {ruta_pdf}, Error: {e}\")\n",
    "        return \"\"\n",
    "\n",
    "# def resumir_texto(texto, max_tokens=1024):\n",
    "#     if not texto:\n",
    "#         return \"\"\n",
    "    \n",
    "#     # Truncamos si el texto es demasiado largo\n",
    "#     texto = texto[:4000]\n",
    "    \n",
    "#     try:\n",
    "#         resumen = resumidor(texto, max_length=130, min_length=30, do_sample=False)[0]['summary_text']\n",
    "#         return resumen\n",
    "#     except Exception as e:\n",
    "#         logging.error(f\"Error al resumir texto: {e}\")\n",
    "#         return \"\"\n"
   ]
  },
  {
   "cell_type": "code",
   "execution_count": null,
   "id": "e0a841e3",
   "metadata": {},
   "outputs": [],
   "source": [
    "if not df_nuevos_avisos.empty:\n",
    "    guardar_avisos(df_nuevos_avisos,database)\n",
    "    for index, row in df_nuevos_avisos.iterrows():\n",
    "        link_aviso = row['Link']\n",
    "        resolucion = row['Resolución']\n",
    "\n",
    "        ruta_completa = descargar_pdf(link_aviso,resolucion)\n",
    "\n",
    "        texto = extraer_texto_pdf(ruta_completa)\n",
    "        print(texto)\n",
    "        # resumen = resumir_texto(texto)\n",
    "        # df_avisos.at[index, \"Resumen\"] = resumen\n"
   ]
  },
  {
   "cell_type": "markdown",
   "id": "99e93af6",
   "metadata": {},
   "source": []
  }
 ],
 "metadata": {
  "kernelspec": {
   "display_name": "Python 3",
   "language": "python",
   "name": "python3"
  },
  "language_info": {
   "codemirror_mode": {
    "name": "ipython",
    "version": 3
   },
   "file_extension": ".py",
   "mimetype": "text/x-python",
   "name": "python",
   "nbconvert_exporter": "python",
   "pygments_lexer": "ipython3",
   "version": "3.12.1"
  }
 },
 "nbformat": 4,
 "nbformat_minor": 5
}
