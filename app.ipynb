{
 "cells": [
  {
   "cell_type": "markdown",
   "id": "ae3259cf",
   "metadata": {},
   "source": [
    "## Imports & Database"
   ]
  },
  {
   "cell_type": "code",
   "execution_count": 6,
   "id": "422d7ad3",
   "metadata": {},
   "outputs": [],
   "source": [
    "import pandas as pd\n",
    "from datetime import date, timedelta\n",
    "import logging\n",
    "\n",
    "from scrapper import search_avisos, parse \n",
    "from functions import nuevos_avisos, guardar_avisos\n",
    "from scrapper_pdf import descargar_pdf\n",
    "from obtener_detalles import obtener_detalles_aviso\n",
    "\n",
    "#from NLP import extraer_texto_pdf, resumir_texto"
   ]
  },
  {
   "cell_type": "code",
   "execution_count": 7,
   "id": "3d16fca1",
   "metadata": {},
   "outputs": [],
   "source": [
    "palabras_clave = {'energía'}\n",
    "fecha_desde = date.today()\n",
    "fecha_hasta = date.today()\n",
    "\n",
    "fecha_desde = date(2025, 6, 5)\n",
    "fecha_hasta = date(2025, 6, 5)"
   ]
  },
  {
   "cell_type": "code",
   "execution_count": 8,
   "id": "dc8831b9",
   "metadata": {},
   "outputs": [],
   "source": [
    "# Cargar la base de datos existente\n",
    "database = pd.read_excel('database.xlsx')\n",
    "database = database.drop(index=database.index)"
   ]
  },
  {
   "cell_type": "markdown",
   "id": "6c9bf906",
   "metadata": {},
   "source": [
    "## Logger"
   ]
  },
  {
   "cell_type": "code",
   "execution_count": 9,
   "id": "fd3ad59e",
   "metadata": {},
   "outputs": [],
   "source": [
    "# Configurar logger\n",
    "logging.basicConfig(\n",
    "    filename='boletin_errors.log',\n",
    "    level=logging.INFO,\n",
    "    format='%(asctime)s [%(levelname)s] %(message)s',\n",
    "    datefmt='%Y-%m-%d %H:%M:%S'\n",
    ")"
   ]
  },
  {
   "cell_type": "code",
   "execution_count": 10,
   "id": "2e518b98",
   "metadata": {},
   "outputs": [
    {
     "ename": "ConnectTimeout",
     "evalue": "HTTPSConnectionPool(host='www.boletinoficial.gob.ar', port=443): Max retries exceeded with url: /busquedaAvanzada/realizarBusqueda (Caused by ConnectTimeoutError(<urllib3.connection.HTTPSConnection object at 0x0000017FAB48F0E0>, 'Connection to www.boletinoficial.gob.ar timed out. (connect timeout=None)'))",
     "output_type": "error",
     "traceback": [
      "\u001b[31m---------------------------------------------------------------------------\u001b[39m",
      "\u001b[31mTimeoutError\u001b[39m                              Traceback (most recent call last)",
      "\u001b[36mFile \u001b[39m\u001b[32mc:\\Users\\hlussiatti\\Desktop\\BoletinOficial\\.env\\Lib\\site-packages\\urllib3\\connection.py:198\u001b[39m, in \u001b[36mHTTPConnection._new_conn\u001b[39m\u001b[34m(self)\u001b[39m\n\u001b[32m    197\u001b[39m \u001b[38;5;28;01mtry\u001b[39;00m:\n\u001b[32m--> \u001b[39m\u001b[32m198\u001b[39m     sock = \u001b[43mconnection\u001b[49m\u001b[43m.\u001b[49m\u001b[43mcreate_connection\u001b[49m\u001b[43m(\u001b[49m\n\u001b[32m    199\u001b[39m \u001b[43m        \u001b[49m\u001b[43m(\u001b[49m\u001b[38;5;28;43mself\u001b[39;49m\u001b[43m.\u001b[49m\u001b[43m_dns_host\u001b[49m\u001b[43m,\u001b[49m\u001b[43m \u001b[49m\u001b[38;5;28;43mself\u001b[39;49m\u001b[43m.\u001b[49m\u001b[43mport\u001b[49m\u001b[43m)\u001b[49m\u001b[43m,\u001b[49m\n\u001b[32m    200\u001b[39m \u001b[43m        \u001b[49m\u001b[38;5;28;43mself\u001b[39;49m\u001b[43m.\u001b[49m\u001b[43mtimeout\u001b[49m\u001b[43m,\u001b[49m\n\u001b[32m    201\u001b[39m \u001b[43m        \u001b[49m\u001b[43msource_address\u001b[49m\u001b[43m=\u001b[49m\u001b[38;5;28;43mself\u001b[39;49m\u001b[43m.\u001b[49m\u001b[43msource_address\u001b[49m\u001b[43m,\u001b[49m\n\u001b[32m    202\u001b[39m \u001b[43m        \u001b[49m\u001b[43msocket_options\u001b[49m\u001b[43m=\u001b[49m\u001b[38;5;28;43mself\u001b[39;49m\u001b[43m.\u001b[49m\u001b[43msocket_options\u001b[49m\u001b[43m,\u001b[49m\n\u001b[32m    203\u001b[39m \u001b[43m    \u001b[49m\u001b[43m)\u001b[49m\n\u001b[32m    204\u001b[39m \u001b[38;5;28;01mexcept\u001b[39;00m socket.gaierror \u001b[38;5;28;01mas\u001b[39;00m e:\n",
      "\u001b[36mFile \u001b[39m\u001b[32mc:\\Users\\hlussiatti\\Desktop\\BoletinOficial\\.env\\Lib\\site-packages\\urllib3\\util\\connection.py:85\u001b[39m, in \u001b[36mcreate_connection\u001b[39m\u001b[34m(address, timeout, source_address, socket_options)\u001b[39m\n\u001b[32m     84\u001b[39m \u001b[38;5;28;01mtry\u001b[39;00m:\n\u001b[32m---> \u001b[39m\u001b[32m85\u001b[39m     \u001b[38;5;28;01mraise\u001b[39;00m err\n\u001b[32m     86\u001b[39m \u001b[38;5;28;01mfinally\u001b[39;00m:\n\u001b[32m     87\u001b[39m     \u001b[38;5;66;03m# Break explicitly a reference cycle\u001b[39;00m\n",
      "\u001b[36mFile \u001b[39m\u001b[32mc:\\Users\\hlussiatti\\Desktop\\BoletinOficial\\.env\\Lib\\site-packages\\urllib3\\util\\connection.py:73\u001b[39m, in \u001b[36mcreate_connection\u001b[39m\u001b[34m(address, timeout, source_address, socket_options)\u001b[39m\n\u001b[32m     72\u001b[39m     sock.bind(source_address)\n\u001b[32m---> \u001b[39m\u001b[32m73\u001b[39m \u001b[43msock\u001b[49m\u001b[43m.\u001b[49m\u001b[43mconnect\u001b[49m\u001b[43m(\u001b[49m\u001b[43msa\u001b[49m\u001b[43m)\u001b[49m\n\u001b[32m     74\u001b[39m \u001b[38;5;66;03m# Break explicitly a reference cycle\u001b[39;00m\n",
      "\u001b[31mTimeoutError\u001b[39m: [WinError 10060] Se produjo un error durante el intento de conexión ya que la parte conectada no respondió adecuadamente tras un periodo de tiempo, o bien se produjo un error en la conexión establecida ya que el host conectado no ha podido responder",
      "\nThe above exception was the direct cause of the following exception:\n",
      "\u001b[31mConnectTimeoutError\u001b[39m                       Traceback (most recent call last)",
      "\u001b[36mFile \u001b[39m\u001b[32mc:\\Users\\hlussiatti\\Desktop\\BoletinOficial\\.env\\Lib\\site-packages\\urllib3\\connectionpool.py:787\u001b[39m, in \u001b[36mHTTPConnectionPool.urlopen\u001b[39m\u001b[34m(self, method, url, body, headers, retries, redirect, assert_same_host, timeout, pool_timeout, release_conn, chunked, body_pos, preload_content, decode_content, **response_kw)\u001b[39m\n\u001b[32m    786\u001b[39m \u001b[38;5;66;03m# Make the request on the HTTPConnection object\u001b[39;00m\n\u001b[32m--> \u001b[39m\u001b[32m787\u001b[39m response = \u001b[38;5;28;43mself\u001b[39;49m\u001b[43m.\u001b[49m\u001b[43m_make_request\u001b[49m\u001b[43m(\u001b[49m\n\u001b[32m    788\u001b[39m \u001b[43m    \u001b[49m\u001b[43mconn\u001b[49m\u001b[43m,\u001b[49m\n\u001b[32m    789\u001b[39m \u001b[43m    \u001b[49m\u001b[43mmethod\u001b[49m\u001b[43m,\u001b[49m\n\u001b[32m    790\u001b[39m \u001b[43m    \u001b[49m\u001b[43murl\u001b[49m\u001b[43m,\u001b[49m\n\u001b[32m    791\u001b[39m \u001b[43m    \u001b[49m\u001b[43mtimeout\u001b[49m\u001b[43m=\u001b[49m\u001b[43mtimeout_obj\u001b[49m\u001b[43m,\u001b[49m\n\u001b[32m    792\u001b[39m \u001b[43m    \u001b[49m\u001b[43mbody\u001b[49m\u001b[43m=\u001b[49m\u001b[43mbody\u001b[49m\u001b[43m,\u001b[49m\n\u001b[32m    793\u001b[39m \u001b[43m    \u001b[49m\u001b[43mheaders\u001b[49m\u001b[43m=\u001b[49m\u001b[43mheaders\u001b[49m\u001b[43m,\u001b[49m\n\u001b[32m    794\u001b[39m \u001b[43m    \u001b[49m\u001b[43mchunked\u001b[49m\u001b[43m=\u001b[49m\u001b[43mchunked\u001b[49m\u001b[43m,\u001b[49m\n\u001b[32m    795\u001b[39m \u001b[43m    \u001b[49m\u001b[43mretries\u001b[49m\u001b[43m=\u001b[49m\u001b[43mretries\u001b[49m\u001b[43m,\u001b[49m\n\u001b[32m    796\u001b[39m \u001b[43m    \u001b[49m\u001b[43mresponse_conn\u001b[49m\u001b[43m=\u001b[49m\u001b[43mresponse_conn\u001b[49m\u001b[43m,\u001b[49m\n\u001b[32m    797\u001b[39m \u001b[43m    \u001b[49m\u001b[43mpreload_content\u001b[49m\u001b[43m=\u001b[49m\u001b[43mpreload_content\u001b[49m\u001b[43m,\u001b[49m\n\u001b[32m    798\u001b[39m \u001b[43m    \u001b[49m\u001b[43mdecode_content\u001b[49m\u001b[43m=\u001b[49m\u001b[43mdecode_content\u001b[49m\u001b[43m,\u001b[49m\n\u001b[32m    799\u001b[39m \u001b[43m    \u001b[49m\u001b[43m*\u001b[49m\u001b[43m*\u001b[49m\u001b[43mresponse_kw\u001b[49m\u001b[43m,\u001b[49m\n\u001b[32m    800\u001b[39m \u001b[43m\u001b[49m\u001b[43m)\u001b[49m\n\u001b[32m    802\u001b[39m \u001b[38;5;66;03m# Everything went great!\u001b[39;00m\n",
      "\u001b[36mFile \u001b[39m\u001b[32mc:\\Users\\hlussiatti\\Desktop\\BoletinOficial\\.env\\Lib\\site-packages\\urllib3\\connectionpool.py:488\u001b[39m, in \u001b[36mHTTPConnectionPool._make_request\u001b[39m\u001b[34m(self, conn, method, url, body, headers, retries, timeout, chunked, response_conn, preload_content, decode_content, enforce_content_length)\u001b[39m\n\u001b[32m    487\u001b[39m         new_e = _wrap_proxy_error(new_e, conn.proxy.scheme)\n\u001b[32m--> \u001b[39m\u001b[32m488\u001b[39m     \u001b[38;5;28;01mraise\u001b[39;00m new_e\n\u001b[32m    490\u001b[39m \u001b[38;5;66;03m# conn.request() calls http.client.*.request, not the method in\u001b[39;00m\n\u001b[32m    491\u001b[39m \u001b[38;5;66;03m# urllib3.request. It also calls makefile (recv) on the socket.\u001b[39;00m\n",
      "\u001b[36mFile \u001b[39m\u001b[32mc:\\Users\\hlussiatti\\Desktop\\BoletinOficial\\.env\\Lib\\site-packages\\urllib3\\connectionpool.py:464\u001b[39m, in \u001b[36mHTTPConnectionPool._make_request\u001b[39m\u001b[34m(self, conn, method, url, body, headers, retries, timeout, chunked, response_conn, preload_content, decode_content, enforce_content_length)\u001b[39m\n\u001b[32m    463\u001b[39m \u001b[38;5;28;01mtry\u001b[39;00m:\n\u001b[32m--> \u001b[39m\u001b[32m464\u001b[39m     \u001b[38;5;28;43mself\u001b[39;49m\u001b[43m.\u001b[49m\u001b[43m_validate_conn\u001b[49m\u001b[43m(\u001b[49m\u001b[43mconn\u001b[49m\u001b[43m)\u001b[49m\n\u001b[32m    465\u001b[39m \u001b[38;5;28;01mexcept\u001b[39;00m (SocketTimeout, BaseSSLError) \u001b[38;5;28;01mas\u001b[39;00m e:\n",
      "\u001b[36mFile \u001b[39m\u001b[32mc:\\Users\\hlussiatti\\Desktop\\BoletinOficial\\.env\\Lib\\site-packages\\urllib3\\connectionpool.py:1093\u001b[39m, in \u001b[36mHTTPSConnectionPool._validate_conn\u001b[39m\u001b[34m(self, conn)\u001b[39m\n\u001b[32m   1092\u001b[39m \u001b[38;5;28;01mif\u001b[39;00m conn.is_closed:\n\u001b[32m-> \u001b[39m\u001b[32m1093\u001b[39m     \u001b[43mconn\u001b[49m\u001b[43m.\u001b[49m\u001b[43mconnect\u001b[49m\u001b[43m(\u001b[49m\u001b[43m)\u001b[49m\n\u001b[32m   1095\u001b[39m \u001b[38;5;66;03m# TODO revise this, see https://github.com/urllib3/urllib3/issues/2791\u001b[39;00m\n",
      "\u001b[36mFile \u001b[39m\u001b[32mc:\\Users\\hlussiatti\\Desktop\\BoletinOficial\\.env\\Lib\\site-packages\\urllib3\\connection.py:704\u001b[39m, in \u001b[36mHTTPSConnection.connect\u001b[39m\u001b[34m(self)\u001b[39m\n\u001b[32m    703\u001b[39m sock: socket.socket | ssl.SSLSocket\n\u001b[32m--> \u001b[39m\u001b[32m704\u001b[39m \u001b[38;5;28mself\u001b[39m.sock = sock = \u001b[38;5;28;43mself\u001b[39;49m\u001b[43m.\u001b[49m\u001b[43m_new_conn\u001b[49m\u001b[43m(\u001b[49m\u001b[43m)\u001b[49m\n\u001b[32m    705\u001b[39m server_hostname: \u001b[38;5;28mstr\u001b[39m = \u001b[38;5;28mself\u001b[39m.host\n",
      "\u001b[36mFile \u001b[39m\u001b[32mc:\\Users\\hlussiatti\\Desktop\\BoletinOficial\\.env\\Lib\\site-packages\\urllib3\\connection.py:207\u001b[39m, in \u001b[36mHTTPConnection._new_conn\u001b[39m\u001b[34m(self)\u001b[39m\n\u001b[32m    206\u001b[39m \u001b[38;5;28;01mexcept\u001b[39;00m SocketTimeout \u001b[38;5;28;01mas\u001b[39;00m e:\n\u001b[32m--> \u001b[39m\u001b[32m207\u001b[39m     \u001b[38;5;28;01mraise\u001b[39;00m ConnectTimeoutError(\n\u001b[32m    208\u001b[39m         \u001b[38;5;28mself\u001b[39m,\n\u001b[32m    209\u001b[39m         \u001b[33mf\u001b[39m\u001b[33m\"\u001b[39m\u001b[33mConnection to \u001b[39m\u001b[38;5;132;01m{\u001b[39;00m\u001b[38;5;28mself\u001b[39m.host\u001b[38;5;132;01m}\u001b[39;00m\u001b[33m timed out. (connect timeout=\u001b[39m\u001b[38;5;132;01m{\u001b[39;00m\u001b[38;5;28mself\u001b[39m.timeout\u001b[38;5;132;01m}\u001b[39;00m\u001b[33m)\u001b[39m\u001b[33m\"\u001b[39m,\n\u001b[32m    210\u001b[39m     ) \u001b[38;5;28;01mfrom\u001b[39;00m\u001b[38;5;250m \u001b[39m\u001b[34;01me\u001b[39;00m\n\u001b[32m    212\u001b[39m \u001b[38;5;28;01mexcept\u001b[39;00m \u001b[38;5;167;01mOSError\u001b[39;00m \u001b[38;5;28;01mas\u001b[39;00m e:\n",
      "\u001b[31mConnectTimeoutError\u001b[39m: (<urllib3.connection.HTTPSConnection object at 0x0000017FAB48F0E0>, 'Connection to www.boletinoficial.gob.ar timed out. (connect timeout=None)')",
      "\nThe above exception was the direct cause of the following exception:\n",
      "\u001b[31mMaxRetryError\u001b[39m                             Traceback (most recent call last)",
      "\u001b[36mFile \u001b[39m\u001b[32mc:\\Users\\hlussiatti\\Desktop\\BoletinOficial\\.env\\Lib\\site-packages\\requests\\adapters.py:667\u001b[39m, in \u001b[36mHTTPAdapter.send\u001b[39m\u001b[34m(self, request, stream, timeout, verify, cert, proxies)\u001b[39m\n\u001b[32m    666\u001b[39m \u001b[38;5;28;01mtry\u001b[39;00m:\n\u001b[32m--> \u001b[39m\u001b[32m667\u001b[39m     resp = \u001b[43mconn\u001b[49m\u001b[43m.\u001b[49m\u001b[43murlopen\u001b[49m\u001b[43m(\u001b[49m\n\u001b[32m    668\u001b[39m \u001b[43m        \u001b[49m\u001b[43mmethod\u001b[49m\u001b[43m=\u001b[49m\u001b[43mrequest\u001b[49m\u001b[43m.\u001b[49m\u001b[43mmethod\u001b[49m\u001b[43m,\u001b[49m\n\u001b[32m    669\u001b[39m \u001b[43m        \u001b[49m\u001b[43murl\u001b[49m\u001b[43m=\u001b[49m\u001b[43murl\u001b[49m\u001b[43m,\u001b[49m\n\u001b[32m    670\u001b[39m \u001b[43m        \u001b[49m\u001b[43mbody\u001b[49m\u001b[43m=\u001b[49m\u001b[43mrequest\u001b[49m\u001b[43m.\u001b[49m\u001b[43mbody\u001b[49m\u001b[43m,\u001b[49m\n\u001b[32m    671\u001b[39m \u001b[43m        \u001b[49m\u001b[43mheaders\u001b[49m\u001b[43m=\u001b[49m\u001b[43mrequest\u001b[49m\u001b[43m.\u001b[49m\u001b[43mheaders\u001b[49m\u001b[43m,\u001b[49m\n\u001b[32m    672\u001b[39m \u001b[43m        \u001b[49m\u001b[43mredirect\u001b[49m\u001b[43m=\u001b[49m\u001b[38;5;28;43;01mFalse\u001b[39;49;00m\u001b[43m,\u001b[49m\n\u001b[32m    673\u001b[39m \u001b[43m        \u001b[49m\u001b[43massert_same_host\u001b[49m\u001b[43m=\u001b[49m\u001b[38;5;28;43;01mFalse\u001b[39;49;00m\u001b[43m,\u001b[49m\n\u001b[32m    674\u001b[39m \u001b[43m        \u001b[49m\u001b[43mpreload_content\u001b[49m\u001b[43m=\u001b[49m\u001b[38;5;28;43;01mFalse\u001b[39;49;00m\u001b[43m,\u001b[49m\n\u001b[32m    675\u001b[39m \u001b[43m        \u001b[49m\u001b[43mdecode_content\u001b[49m\u001b[43m=\u001b[49m\u001b[38;5;28;43;01mFalse\u001b[39;49;00m\u001b[43m,\u001b[49m\n\u001b[32m    676\u001b[39m \u001b[43m        \u001b[49m\u001b[43mretries\u001b[49m\u001b[43m=\u001b[49m\u001b[38;5;28;43mself\u001b[39;49m\u001b[43m.\u001b[49m\u001b[43mmax_retries\u001b[49m\u001b[43m,\u001b[49m\n\u001b[32m    677\u001b[39m \u001b[43m        \u001b[49m\u001b[43mtimeout\u001b[49m\u001b[43m=\u001b[49m\u001b[43mtimeout\u001b[49m\u001b[43m,\u001b[49m\n\u001b[32m    678\u001b[39m \u001b[43m        \u001b[49m\u001b[43mchunked\u001b[49m\u001b[43m=\u001b[49m\u001b[43mchunked\u001b[49m\u001b[43m,\u001b[49m\n\u001b[32m    679\u001b[39m \u001b[43m    \u001b[49m\u001b[43m)\u001b[49m\n\u001b[32m    681\u001b[39m \u001b[38;5;28;01mexcept\u001b[39;00m (ProtocolError, \u001b[38;5;167;01mOSError\u001b[39;00m) \u001b[38;5;28;01mas\u001b[39;00m err:\n",
      "\u001b[36mFile \u001b[39m\u001b[32mc:\\Users\\hlussiatti\\Desktop\\BoletinOficial\\.env\\Lib\\site-packages\\urllib3\\connectionpool.py:841\u001b[39m, in \u001b[36mHTTPConnectionPool.urlopen\u001b[39m\u001b[34m(self, method, url, body, headers, retries, redirect, assert_same_host, timeout, pool_timeout, release_conn, chunked, body_pos, preload_content, decode_content, **response_kw)\u001b[39m\n\u001b[32m    839\u001b[39m     new_e = ProtocolError(\u001b[33m\"\u001b[39m\u001b[33mConnection aborted.\u001b[39m\u001b[33m\"\u001b[39m, new_e)\n\u001b[32m--> \u001b[39m\u001b[32m841\u001b[39m retries = \u001b[43mretries\u001b[49m\u001b[43m.\u001b[49m\u001b[43mincrement\u001b[49m\u001b[43m(\u001b[49m\n\u001b[32m    842\u001b[39m \u001b[43m    \u001b[49m\u001b[43mmethod\u001b[49m\u001b[43m,\u001b[49m\u001b[43m \u001b[49m\u001b[43murl\u001b[49m\u001b[43m,\u001b[49m\u001b[43m \u001b[49m\u001b[43merror\u001b[49m\u001b[43m=\u001b[49m\u001b[43mnew_e\u001b[49m\u001b[43m,\u001b[49m\u001b[43m \u001b[49m\u001b[43m_pool\u001b[49m\u001b[43m=\u001b[49m\u001b[38;5;28;43mself\u001b[39;49m\u001b[43m,\u001b[49m\u001b[43m \u001b[49m\u001b[43m_stacktrace\u001b[49m\u001b[43m=\u001b[49m\u001b[43msys\u001b[49m\u001b[43m.\u001b[49m\u001b[43mexc_info\u001b[49m\u001b[43m(\u001b[49m\u001b[43m)\u001b[49m\u001b[43m[\u001b[49m\u001b[32;43m2\u001b[39;49m\u001b[43m]\u001b[49m\n\u001b[32m    843\u001b[39m \u001b[43m\u001b[49m\u001b[43m)\u001b[49m\n\u001b[32m    844\u001b[39m retries.sleep()\n",
      "\u001b[36mFile \u001b[39m\u001b[32mc:\\Users\\hlussiatti\\Desktop\\BoletinOficial\\.env\\Lib\\site-packages\\urllib3\\util\\retry.py:519\u001b[39m, in \u001b[36mRetry.increment\u001b[39m\u001b[34m(self, method, url, response, error, _pool, _stacktrace)\u001b[39m\n\u001b[32m    518\u001b[39m     reason = error \u001b[38;5;129;01mor\u001b[39;00m ResponseError(cause)\n\u001b[32m--> \u001b[39m\u001b[32m519\u001b[39m     \u001b[38;5;28;01mraise\u001b[39;00m MaxRetryError(_pool, url, reason) \u001b[38;5;28;01mfrom\u001b[39;00m\u001b[38;5;250m \u001b[39m\u001b[34;01mreason\u001b[39;00m  \u001b[38;5;66;03m# type: ignore[arg-type]\u001b[39;00m\n\u001b[32m    521\u001b[39m log.debug(\u001b[33m\"\u001b[39m\u001b[33mIncremented Retry for (url=\u001b[39m\u001b[33m'\u001b[39m\u001b[38;5;132;01m%s\u001b[39;00m\u001b[33m'\u001b[39m\u001b[33m): \u001b[39m\u001b[38;5;132;01m%r\u001b[39;00m\u001b[33m\"\u001b[39m, url, new_retry)\n",
      "\u001b[31mMaxRetryError\u001b[39m: HTTPSConnectionPool(host='www.boletinoficial.gob.ar', port=443): Max retries exceeded with url: /busquedaAvanzada/realizarBusqueda (Caused by ConnectTimeoutError(<urllib3.connection.HTTPSConnection object at 0x0000017FAB48F0E0>, 'Connection to www.boletinoficial.gob.ar timed out. (connect timeout=None)'))",
      "\nDuring handling of the above exception, another exception occurred:\n",
      "\u001b[31mConnectTimeout\u001b[39m                            Traceback (most recent call last)",
      "\u001b[36mCell\u001b[39m\u001b[36m \u001b[39m\u001b[32mIn[10]\u001b[39m\u001b[32m, line 1\u001b[39m\n\u001b[32m----> \u001b[39m\u001b[32m1\u001b[39m response = \u001b[43msearch_avisos\u001b[49m\u001b[43m(\u001b[49m\u001b[33;43m'\u001b[39;49m\u001b[33;43menergía\u001b[39;49m\u001b[33;43m'\u001b[39;49m\u001b[43m,\u001b[49m\u001b[33;43m'\u001b[39;49m\u001b[33;43m05/06/2025\u001b[39;49m\u001b[33;43m'\u001b[39;49m\u001b[43m,\u001b[49m\u001b[33;43m'\u001b[39;49m\u001b[33;43m05/06/2025\u001b[39;49m\u001b[33;43m'\u001b[39;49m\u001b[43m)\u001b[49m\n\u001b[32m      2\u001b[39m \u001b[38;5;28mprint\u001b[39m (response)\n",
      "\u001b[36mFile \u001b[39m\u001b[32mc:\\Users\\hlussiatti\\Desktop\\BoletinOficial\\scrapper.py:70\u001b[39m, in \u001b[36msearch_avisos\u001b[39m\u001b[34m(palabra, fecha_desde, fecha_hasta)\u001b[39m\n\u001b[32m     29\u001b[39m payload = {\n\u001b[32m     30\u001b[39m     \u001b[33m\"\u001b[39m\u001b[33mparams\u001b[39m\u001b[33m\"\u001b[39m: \u001b[33mf\u001b[39m\u001b[33m'''\u001b[39m\u001b[38;5;130;01m{{\u001b[39;00m\n\u001b[32m     31\u001b[39m \u001b[33m        \u001b[39m\u001b[33m\"\u001b[39m\u001b[33mbusquedaRubro\u001b[39m\u001b[33m\"\u001b[39m\u001b[33m:false,\u001b[39m\n\u001b[32m   (...)\u001b[39m\u001b[32m     60\u001b[39m     \u001b[33m\"\u001b[39m\u001b[33marray_volver\u001b[39m\u001b[33m\"\u001b[39m: \u001b[33m\"\u001b[39m\u001b[33m[]\u001b[39m\u001b[33m\"\u001b[39m\n\u001b[32m     61\u001b[39m }\n\u001b[32m     63\u001b[39m headers = {\n\u001b[32m     64\u001b[39m     \u001b[33m\"\u001b[39m\u001b[33mContent-Type\u001b[39m\u001b[33m\"\u001b[39m: \u001b[33m\"\u001b[39m\u001b[33mapplication/x-www-form-urlencoded; charset=UTF-8\u001b[39m\u001b[33m\"\u001b[39m,\n\u001b[32m     65\u001b[39m     \u001b[33m\"\u001b[39m\u001b[33mOrigin\u001b[39m\u001b[33m\"\u001b[39m: base_url,\n\u001b[32m     66\u001b[39m     \u001b[33m\"\u001b[39m\u001b[33mReferer\u001b[39m\u001b[33m\"\u001b[39m: \u001b[33m\"\u001b[39m\u001b[33mhttps://www.boletinoficial.gob.ar/busquedaAvanzada/primera\u001b[39m\u001b[33m\"\u001b[39m,\n\u001b[32m     67\u001b[39m     \u001b[33m\"\u001b[39m\u001b[33mUser-Agent\u001b[39m\u001b[33m\"\u001b[39m: \u001b[33m\"\u001b[39m\u001b[33mMozilla/5.0\u001b[39m\u001b[33m\"\u001b[39m\n\u001b[32m     68\u001b[39m }\n\u001b[32m---> \u001b[39m\u001b[32m70\u001b[39m response = requests.post(base_url + url_busqueda, data=payload, headers=headers, timeout=\u001b[32m10\u001b[39m)\n\u001b[32m     72\u001b[39m \u001b[38;5;66;03m# Código de estado (por ejemplo, 200, 404, 500)\u001b[39;00m\n\u001b[32m     73\u001b[39m \u001b[38;5;28mprint\u001b[39m(\u001b[33m\"\u001b[39m\u001b[33mStatus code:\u001b[39m\u001b[33m\"\u001b[39m, response.status_code)\n",
      "\u001b[36mFile \u001b[39m\u001b[32mc:\\Users\\hlussiatti\\Desktop\\BoletinOficial\\.env\\Lib\\site-packages\\requests\\api.py:115\u001b[39m, in \u001b[36mpost\u001b[39m\u001b[34m(url, data, json, **kwargs)\u001b[39m\n\u001b[32m    103\u001b[39m \u001b[38;5;28;01mdef\u001b[39;00m\u001b[38;5;250m \u001b[39m\u001b[34mpost\u001b[39m(url, data=\u001b[38;5;28;01mNone\u001b[39;00m, json=\u001b[38;5;28;01mNone\u001b[39;00m, **kwargs):\n\u001b[32m    104\u001b[39m \u001b[38;5;250m    \u001b[39m\u001b[33mr\u001b[39m\u001b[33;03m\"\"\"Sends a POST request.\u001b[39;00m\n\u001b[32m    105\u001b[39m \n\u001b[32m    106\u001b[39m \u001b[33;03m    :param url: URL for the new :class:`Request` object.\u001b[39;00m\n\u001b[32m   (...)\u001b[39m\u001b[32m    112\u001b[39m \u001b[33;03m    :rtype: requests.Response\u001b[39;00m\n\u001b[32m    113\u001b[39m \u001b[33;03m    \"\"\"\u001b[39;00m\n\u001b[32m--> \u001b[39m\u001b[32m115\u001b[39m     \u001b[38;5;28;01mreturn\u001b[39;00m \u001b[43mrequest\u001b[49m\u001b[43m(\u001b[49m\u001b[33;43m\"\u001b[39;49m\u001b[33;43mpost\u001b[39;49m\u001b[33;43m\"\u001b[39;49m\u001b[43m,\u001b[49m\u001b[43m \u001b[49m\u001b[43murl\u001b[49m\u001b[43m,\u001b[49m\u001b[43m \u001b[49m\u001b[43mdata\u001b[49m\u001b[43m=\u001b[49m\u001b[43mdata\u001b[49m\u001b[43m,\u001b[49m\u001b[43m \u001b[49m\u001b[43mjson\u001b[49m\u001b[43m=\u001b[49m\u001b[43mjson\u001b[49m\u001b[43m,\u001b[49m\u001b[43m \u001b[49m\u001b[43m*\u001b[49m\u001b[43m*\u001b[49m\u001b[43mkwargs\u001b[49m\u001b[43m)\u001b[49m\n",
      "\u001b[36mFile \u001b[39m\u001b[32mc:\\Users\\hlussiatti\\Desktop\\BoletinOficial\\.env\\Lib\\site-packages\\requests\\api.py:59\u001b[39m, in \u001b[36mrequest\u001b[39m\u001b[34m(method, url, **kwargs)\u001b[39m\n\u001b[32m     55\u001b[39m \u001b[38;5;66;03m# By using the 'with' statement we are sure the session is closed, thus we\u001b[39;00m\n\u001b[32m     56\u001b[39m \u001b[38;5;66;03m# avoid leaving sockets open which can trigger a ResourceWarning in some\u001b[39;00m\n\u001b[32m     57\u001b[39m \u001b[38;5;66;03m# cases, and look like a memory leak in others.\u001b[39;00m\n\u001b[32m     58\u001b[39m \u001b[38;5;28;01mwith\u001b[39;00m sessions.Session() \u001b[38;5;28;01mas\u001b[39;00m session:\n\u001b[32m---> \u001b[39m\u001b[32m59\u001b[39m     \u001b[38;5;28;01mreturn\u001b[39;00m \u001b[43msession\u001b[49m\u001b[43m.\u001b[49m\u001b[43mrequest\u001b[49m\u001b[43m(\u001b[49m\u001b[43mmethod\u001b[49m\u001b[43m=\u001b[49m\u001b[43mmethod\u001b[49m\u001b[43m,\u001b[49m\u001b[43m \u001b[49m\u001b[43murl\u001b[49m\u001b[43m=\u001b[49m\u001b[43murl\u001b[49m\u001b[43m,\u001b[49m\u001b[43m \u001b[49m\u001b[43m*\u001b[49m\u001b[43m*\u001b[49m\u001b[43mkwargs\u001b[49m\u001b[43m)\u001b[49m\n",
      "\u001b[36mFile \u001b[39m\u001b[32mc:\\Users\\hlussiatti\\Desktop\\BoletinOficial\\.env\\Lib\\site-packages\\requests\\sessions.py:589\u001b[39m, in \u001b[36mSession.request\u001b[39m\u001b[34m(self, method, url, params, data, headers, cookies, files, auth, timeout, allow_redirects, proxies, hooks, stream, verify, cert, json)\u001b[39m\n\u001b[32m    584\u001b[39m send_kwargs = {\n\u001b[32m    585\u001b[39m     \u001b[33m\"\u001b[39m\u001b[33mtimeout\u001b[39m\u001b[33m\"\u001b[39m: timeout,\n\u001b[32m    586\u001b[39m     \u001b[33m\"\u001b[39m\u001b[33mallow_redirects\u001b[39m\u001b[33m\"\u001b[39m: allow_redirects,\n\u001b[32m    587\u001b[39m }\n\u001b[32m    588\u001b[39m send_kwargs.update(settings)\n\u001b[32m--> \u001b[39m\u001b[32m589\u001b[39m resp = \u001b[38;5;28;43mself\u001b[39;49m\u001b[43m.\u001b[49m\u001b[43msend\u001b[49m\u001b[43m(\u001b[49m\u001b[43mprep\u001b[49m\u001b[43m,\u001b[49m\u001b[43m \u001b[49m\u001b[43m*\u001b[49m\u001b[43m*\u001b[49m\u001b[43msend_kwargs\u001b[49m\u001b[43m)\u001b[49m\n\u001b[32m    591\u001b[39m \u001b[38;5;28;01mreturn\u001b[39;00m resp\n",
      "\u001b[36mFile \u001b[39m\u001b[32mc:\\Users\\hlussiatti\\Desktop\\BoletinOficial\\.env\\Lib\\site-packages\\requests\\sessions.py:703\u001b[39m, in \u001b[36mSession.send\u001b[39m\u001b[34m(self, request, **kwargs)\u001b[39m\n\u001b[32m    700\u001b[39m start = preferred_clock()\n\u001b[32m    702\u001b[39m \u001b[38;5;66;03m# Send the request\u001b[39;00m\n\u001b[32m--> \u001b[39m\u001b[32m703\u001b[39m r = \u001b[43madapter\u001b[49m\u001b[43m.\u001b[49m\u001b[43msend\u001b[49m\u001b[43m(\u001b[49m\u001b[43mrequest\u001b[49m\u001b[43m,\u001b[49m\u001b[43m \u001b[49m\u001b[43m*\u001b[49m\u001b[43m*\u001b[49m\u001b[43mkwargs\u001b[49m\u001b[43m)\u001b[49m\n\u001b[32m    705\u001b[39m \u001b[38;5;66;03m# Total elapsed time of the request (approximately)\u001b[39;00m\n\u001b[32m    706\u001b[39m elapsed = preferred_clock() - start\n",
      "\u001b[36mFile \u001b[39m\u001b[32mc:\\Users\\hlussiatti\\Desktop\\BoletinOficial\\.env\\Lib\\site-packages\\requests\\adapters.py:688\u001b[39m, in \u001b[36mHTTPAdapter.send\u001b[39m\u001b[34m(self, request, stream, timeout, verify, cert, proxies)\u001b[39m\n\u001b[32m    685\u001b[39m \u001b[38;5;28;01mif\u001b[39;00m \u001b[38;5;28misinstance\u001b[39m(e.reason, ConnectTimeoutError):\n\u001b[32m    686\u001b[39m     \u001b[38;5;66;03m# TODO: Remove this in 3.0.0: see #2811\u001b[39;00m\n\u001b[32m    687\u001b[39m     \u001b[38;5;28;01mif\u001b[39;00m \u001b[38;5;129;01mnot\u001b[39;00m \u001b[38;5;28misinstance\u001b[39m(e.reason, NewConnectionError):\n\u001b[32m--> \u001b[39m\u001b[32m688\u001b[39m         \u001b[38;5;28;01mraise\u001b[39;00m ConnectTimeout(e, request=request)\n\u001b[32m    690\u001b[39m \u001b[38;5;28;01mif\u001b[39;00m \u001b[38;5;28misinstance\u001b[39m(e.reason, ResponseError):\n\u001b[32m    691\u001b[39m     \u001b[38;5;28;01mraise\u001b[39;00m RetryError(e, request=request)\n",
      "\u001b[31mConnectTimeout\u001b[39m: HTTPSConnectionPool(host='www.boletinoficial.gob.ar', port=443): Max retries exceeded with url: /busquedaAvanzada/realizarBusqueda (Caused by ConnectTimeoutError(<urllib3.connection.HTTPSConnection object at 0x0000017FAB48F0E0>, 'Connection to www.boletinoficial.gob.ar timed out. (connect timeout=None)'))"
     ]
    }
   ],
   "source": [
    "response = search_avisos('energía','05/06/2025','05/06/2025')\n",
    "print (response)"
   ]
  },
  {
   "cell_type": "markdown",
   "id": "90875b17",
   "metadata": {},
   "source": [
    "## Search todos los avisos del día"
   ]
  },
  {
   "cell_type": "code",
   "execution_count": null,
   "id": "84382cd9",
   "metadata": {},
   "outputs": [
    {
     "name": "stdout",
     "output_type": "stream",
     "text": [
      "2025-06-05\n",
      "2025-06-05\n",
      "2025-06-05\n",
      "A\n",
      "B\n",
      "{'params': '{\\n            \"busquedaRubro\":false,\\n            \"hayMasResultadosBusqueda\":true,\\n            \"ejecutandoLlamadaAsincronicaBusqueda\":false,\\n            \"ultimaSeccion\":\"\",\\n            \"filtroPorRubrosSeccion\":false,\\n            \"filtroPorRubroBusqueda\":false,\\n            \"filtroPorSeccionBusqueda\":false,\\n            \"busquedaOriginal\":true,\\n            \"ordenamientoSegunda\":false,\\n            \"seccionesOriginales\":[1],\\n            \"ultimoItemExterno\":null,\\n            \"ultimoItemInterno\":null,\\n            \"texto\":\"energía\",\\n            \"rubros\":[],\\n            \"nroNorma\":\"\",\\n            \"anioNorma\":\"\",\\n            \"denominacion\":\"\",\\n            \"tipoContratacion\":\"\",\\n            \"anioContratacion\":\"\",\\n            \"nroContratacion\":\"\",\\n            \"fechaDesde\":\"05/06/2025\",\\n            \"fechaHasta\":\"05/06/2025\",\\n            \"todasLasPalabras\":true,\\n            \"comienzaDenominacion\":true,\\n            \"seccion\":[1],\\n            \"tipoBusqueda\":\"Avanzada\",\\n            \"numeroPagina\":1,\\n            \"ultimoRubro\":\"\"\\n        }', 'array_volver': '[]'}\n",
      "A\n",
      "B\n",
      "{'params': '{\\n            \"busquedaRubro\":false,\\n            \"hayMasResultadosBusqueda\":true,\\n            \"ejecutandoLlamadaAsincronicaBusqueda\":false,\\n            \"ultimaSeccion\":\"\",\\n            \"filtroPorRubrosSeccion\":false,\\n            \"filtroPorRubroBusqueda\":false,\\n            \"filtroPorSeccionBusqueda\":false,\\n            \"busquedaOriginal\":true,\\n            \"ordenamientoSegunda\":false,\\n            \"seccionesOriginales\":[1],\\n            \"ultimoItemExterno\":null,\\n            \"ultimoItemInterno\":null,\\n            \"texto\":\"ENERGÍA\",\\n            \"rubros\":[],\\n            \"nroNorma\":\"\",\\n            \"anioNorma\":\"\",\\n            \"denominacion\":\"\",\\n            \"tipoContratacion\":\"\",\\n            \"anioContratacion\":\"\",\\n            \"nroContratacion\":\"\",\\n            \"fechaDesde\":\"05/06/2025\",\\n            \"fechaHasta\":\"05/06/2025\",\\n            \"todasLasPalabras\":true,\\n            \"comienzaDenominacion\":true,\\n            \"seccion\":[1],\\n            \"tipoBusqueda\":\"Avanzada\",\\n            \"numeroPagina\":1,\\n            \"ultimoRubro\":\"\"\\n        }', 'array_volver': '[]'}\n",
      "2025-06-05\n",
      "2025-06-06\n",
      "2025-06-05\n",
      "A\n",
      "B\n",
      "{'params': '{\\n            \"busquedaRubro\":false,\\n            \"hayMasResultadosBusqueda\":true,\\n            \"ejecutandoLlamadaAsincronicaBusqueda\":false,\\n            \"ultimaSeccion\":\"\",\\n            \"filtroPorRubrosSeccion\":false,\\n            \"filtroPorRubroBusqueda\":false,\\n            \"filtroPorSeccionBusqueda\":false,\\n            \"busquedaOriginal\":true,\\n            \"ordenamientoSegunda\":false,\\n            \"seccionesOriginales\":[1],\\n            \"ultimoItemExterno\":null,\\n            \"ultimoItemInterno\":null,\\n            \"texto\":\"energía\",\\n            \"rubros\":[],\\n            \"nroNorma\":\"\",\\n            \"anioNorma\":\"\",\\n            \"denominacion\":\"\",\\n            \"tipoContratacion\":\"\",\\n            \"anioContratacion\":\"\",\\n            \"nroContratacion\":\"\",\\n            \"fechaDesde\":\"05/06/2025\",\\n            \"fechaHasta\":\"05/06/2025\",\\n            \"todasLasPalabras\":true,\\n            \"comienzaDenominacion\":true,\\n            \"seccion\":[1],\\n            \"tipoBusqueda\":\"Avanzada\",\\n            \"numeroPagina\":1,\\n            \"ultimoRubro\":\"\"\\n        }', 'array_volver': '[]'}\n"
     ]
    }
   ],
   "source": [
    "# Se guardan todos los avisos encontrados\n",
    "avisos_totales = []\n",
    "fecha = fecha_desde\n",
    "\n",
    "while fecha <= fecha_hasta:\n",
    "    fecha_str = fecha.strftime(\"%d/%m/%Y\")\n",
    "    for palabra in palabras_clave :\n",
    "        try:\n",
    "            response = search_avisos(palabra,fecha_str,fecha_str)\n",
    "            print (response)\n",
    "            break\n",
    "            if response.status_code == 200:\n",
    "                datos = response.json()\n",
    "                avisos_totales.extend(parse(datos))\n",
    "            else:\n",
    "                logging.warning(f\"Error al buscar '{palabra}': Código {response.status_code}\")\n",
    "        except Exception as e:\n",
    "            logging.error(f\"Fallo la búsqueda para '{palabra}': {e}\")\n",
    "\n",
    "    # Se verifica que los avisos no existan en la base de datos.\n",
    "    if avisos_totales:\n",
    "        df_nuevos_avisos = nuevos_avisos(avisos_totales, database)\n",
    "    fecha_desde += timedelta(days=1)\n"
   ]
  },
  {
   "cell_type": "code",
   "execution_count": 22,
   "id": "1d7c593b",
   "metadata": {},
   "outputs": [
    {
     "data": {
      "text/plain": [
       "[]"
      ]
     },
     "execution_count": 22,
     "metadata": {},
     "output_type": "execute_result"
    }
   ],
   "source": [
    "avisos_totales"
   ]
  },
  {
   "cell_type": "code",
   "execution_count": null,
   "id": "b6fbcc6e",
   "metadata": {},
   "outputs": [],
   "source": [
    "# from PyPDF2 import PdfReader\n",
    "# from transformers import pipeline\n",
    "\n",
    "# def resumir_pdf(path_pdf):\n",
    "#     # Leer texto del PDF\n",
    "#     reader = PdfReader(path_pdf)\n",
    "#     texto = \"\"\n",
    "#     for page in reader.pages:\n",
    "#         texto += page.extract_text()\n",
    "    \n",
    "#     # Inicializar modelo de resumen\n",
    "#     summarizer = pipeline(\"summarization\", model=\"facebook/bart-large-cnn\")\n",
    "\n",
    "#     # Dividir texto en partes si es necesario\n",
    "#     max_chunk = 1024\n",
    "#     chunks = [texto[i:i+max_chunk] for i in range(0, len(texto), max_chunk)]\n",
    "#     print (chunks)\n",
    "#     resumen = \"\"\n",
    "\n",
    "#     for chunk in chunks:\n",
    "#         resumen += summarizer(chunk, max_length=250, min_length=100, do_sample=False)[0]['summary_text'] + \"\\n\"\n",
    "\n",
    "#     return resumen.strip()"
   ]
  },
  {
   "cell_type": "code",
   "execution_count": null,
   "id": "e27a9358",
   "metadata": {},
   "outputs": [],
   "source": [
    "# import requests\n",
    "# from PyPDF2 import PdfReader\n",
    "\n",
    "# def dividir_en_chunks(texto, max_palabras=200):\n",
    "#     palabras = texto.split()\n",
    "#     return [\" \".join(palabras[i:i + max_palabras]) for i in range(0, len(palabras), max_palabras)]\n",
    "\n",
    "# def resumir_con_bart(texto, hf_token):\n",
    "#     if len(texto.strip()) < 50:\n",
    "#         raise ValueError(\"Chunk demasiado corto para resumir.\")\n",
    "    \n",
    "#     api_url = \"https://api-inference.huggingface.co/models/facebook/bart-large-cnn\"\n",
    "    \n",
    "#     headers = {\"Authorization\": f\"Bearer {\"hf_token}\"}\"}\n",
    "#     payload = {\"inputs\": texto}\n",
    "#     response = requests.post(api_url, headers=headers, json=payload)\n",
    "    \n",
    "#     if response.status_code == 200:\n",
    "#         return response.json()[0]['summary_text']\n",
    "#     else:\n",
    "#         raise Exception(f\"[Resumen] Error {response.status_code}: {response.text}\")\n",
    "\n",
    "# def traducir_al_espanol(texto, hf_token):\n",
    "#     url = \"https://api-inference.huggingface.co/models/Helsinki-NLP/opus-mt-en-es\"\n",
    "#     headers = {\"Authorization\": f\"Bearer {hf_token}\"}\n",
    "#     payload = {\"inputs\": texto}\n",
    "#     response = requests.post(url, headers=headers, json=payload)\n",
    "#     if response.status_code == 200:\n",
    "#         return response.json()[0]['translation_text']\n",
    "#     else:\n",
    "#         raise Exception(f\"[Traducción] Error {response.status_code}: {response.text}\")\n",
    "\n",
    "# def resumen_partes_pdf_traducido(path_pdf, hf_token):\n",
    "#     # Leer PDF\n",
    "#     reader = PdfReader(path_pdf)\n",
    "#     texto = \"\"\n",
    "#     for page in reader.pages:\n",
    "#         page_text = page.extract_text()\n",
    "#         if page_text:\n",
    "#             texto += page_text + \"\\n\"\n",
    "\n",
    "#     texto = texto.upper()\n",
    "#     inicio_considerando = texto.find(\"CONSIDERANDO\")\n",
    "#     inicio_resuelve = texto.find(\"RESUELVE\")\n",
    "\n",
    "#     if inicio_considerando == -1 or inicio_resuelve == -1:\n",
    "#         raise ValueError(\"No se encontraron las secciones CONSIDERANDO y/o RESUELVE.\")\n",
    "\n",
    "#     considerandos = texto[inicio_considerando:inicio_resuelve].strip()\n",
    "#     resuelve = texto[inicio_resuelve:].strip()\n",
    "\n",
    "#     partes_considerando = [chunk for chunk in dividir_en_chunks(considerandos) if len(chunk.strip()) >= 50]\n",
    "#     partes_resuelve = [chunk for chunk in dividir_en_chunks(resuelve) if len(chunk.strip()) >= 50]\n",
    "\n",
    "\n",
    "#     resumen_considerando = \"\\n\".join([\n",
    "#         traducir_al_espanol(resumir_con_bart(chunk, hf_token), hf_token)\n",
    "#         for chunk in partes_considerando\n",
    "#         if len(chunk.strip().split()) >= 30\n",
    "#     ])\n",
    "#     resumen_resuelve = \"\\n\".join([\n",
    "#         traducir_al_espanol(resumir_con_bart(chunk, hf_token), hf_token)\n",
    "#         for chunk in partes_resuelve\n",
    "#     ])\n",
    "\n",
    "#     return {\n",
    "#         \"considerandos\": resumen_considerando.strip(),\n",
    "#         \"resuelve\": resumen_resuelve.strip()\n",
    "#     }\n"
   ]
  },
  {
   "cell_type": "code",
   "execution_count": null,
   "id": "c706f43c",
   "metadata": {},
   "outputs": [],
   "source": []
  },
  {
   "cell_type": "code",
   "execution_count": null,
   "id": "7f95bbb9",
   "metadata": {},
   "outputs": [],
   "source": [
    "# import requests\n",
    "# import os\n",
    "\n",
    "\n",
    "\n",
    "# def resumir_con_gpt4(texto, seccion, modelo=\"gpt-3.5-turbo\"):\n",
    "\n",
    "#     API_KEY = \"\"\n",
    "#     CHATGPT_URL = \"https://api.openai.com/v1/chat/completions\"\n",
    "\n",
    "#     headers = {\n",
    "#     \"Authorization\": f\"Bearer {API_KEY}\",\n",
    "#     \"Content-Type\": \"application/json\"\n",
    "#     }\n",
    "    \n",
    "#     prompt = (\n",
    "#         f\"Este es el contenido de la sección '{seccion}' de una resolución oficial argentina:\\n\\n\"\n",
    "#         f\"{texto}\\n\\n\"\n",
    "#         f\"Por favor, redactá un resumen claro, conciso y formal en 5 a 8 líneas.\"\n",
    "#     )\n",
    "\n",
    "#     payload = {\n",
    "#         \"model\": modelo,\n",
    "#         \"messages\": [\n",
    "#             {\"role\": \"system\", \"content\": \"Sos un asistente jurídico especializado en documentos oficiales.\"},\n",
    "#             {\"role\": \"user\", \"content\": prompt}\n",
    "#         ],\n",
    "#         \"temperature\": 0.4,\n",
    "#         \"max_tokens\": 500\n",
    "#     }\n",
    "\n",
    "#     response = requests.post(CHATGPT_URL, headers=headers, json=payload)\n",
    "\n",
    "#     if response.status_code == 200:\n",
    "#         return response.json()[\"choices\"][0][\"message\"][\"content\"].strip()\n",
    "#     else:\n",
    "#         raise Exception(f\"Error {response.status_code}: {response.text}\")"
   ]
  },
  {
   "cell_type": "code",
   "execution_count": null,
   "id": "1831218a",
   "metadata": {},
   "outputs": [],
   "source": [
    "import pdfplumber\n",
    "# import re\n",
    "\n",
    "\n",
    "# def extraer_texto_pdf(path_pdf, guardar_txt=None, margen_sup=80, margen_inf=80):\n",
    "#     \"\"\"\n",
    "#     Extrae texto de un PDF oficial, separando:\n",
    "#     - CONSIDERANDO: por punto y salto de línea.\n",
    "#     - RESUELVE: por cada ARTÍCULO.\n",
    "#     \"\"\"\n",
    "\n",
    "#     texto_crudo = \"\"\n",
    "\n",
    "#     # Extraer texto recortando encabezado y pie\n",
    "#     with pdfplumber.open(path_pdf) as pdf:\n",
    "#         for page in pdf.pages:\n",
    "#             altura = page.height\n",
    "#             area_util = page.within_bbox((0, margen_sup, page.width, altura - margen_inf))\n",
    "#             texto_pagina = area_util.extract_text()\n",
    "#             if texto_pagina:\n",
    "#                 texto_crudo += texto_pagina + \"\\n\"\n",
    "\n",
    "#     # Normalizar espacios y saltos\n",
    "#     texto_crudo = re.sub(r'[ \\t]+', ' ', texto_crudo)\n",
    "#     texto_crudo = re.sub(r'\\n+', '\\n', texto_crudo).strip()\n",
    "\n",
    "#     # Buscar las secciones CONSIDERANDO y RESUELVE\n",
    "#     match_considerando = re.search(r'CONSIDERANDO:', texto_crudo, re.IGNORECASE)\n",
    "#     match_resuelve = re.search(r'RESUELVE:', texto_crudo, re.IGNORECASE)\n",
    "\n",
    "#     if not match_considerando or not match_resuelve:\n",
    "#         raise ValueError(\"No se encontraron ambas secciones 'CONSIDERANDO' y 'RESUELVE'.\")\n",
    "\n",
    "#     # Dividir texto en tres partes: preconsiderandos (opcional), considerando, resuelve\n",
    "#     texto_considerando = texto_crudo[match_considerando.end():match_resuelve.start()].strip()\n",
    "#     texto_resuelve = texto_crudo[match_resuelve.end():].strip()\n",
    "\n",
    "#     # === Procesar CONSIDERANDO ===\n",
    "#     # Unir líneas, cortar por punto seguido de salto de línea\n",
    "#     texto_considerando = re.sub(r'\\n', ' ', texto_considerando)\n",
    "#     print (texto_considerando)\n",
    "\n",
    "#     considerando_parrafos = re.split(r'\\.\\s+', texto_considerando)\n",
    "#     considerando_parrafos = [p.strip() + '.' for p in considerando_parrafos if p.strip()]\n",
    "\n",
    "#     # === Procesar RESUELVE ===\n",
    "#     # Separar por artículos\n",
    "#     articulos = re.split(r'\\b(ART[IÍ]CULO\\s+\\d+°?)', texto_resuelve)\n",
    "#     articulos_limpios = []\n",
    "#     for i in range(1, len(articulos), 2):  # saltamos de a 2: etiqueta y contenido\n",
    "#         etiqueta = articulos[i].strip()\n",
    "#         contenido = articulos[i + 1].strip().replace('\\n', ' ')\n",
    "#         articulos_limpios.append(f\"{etiqueta} {contenido}\")\n",
    "\n",
    "#     # Consolidar texto final\n",
    "#     texto_final = \"CONSIDERANDO:\\n\\n\" + \"\\n\\n\".join(considerando_parrafos)\n",
    "#     texto_final += \"\\n\\n\\nRESUELVE:\\n\\n\" + \"\\n\\n\".join(articulos_limpios)\n",
    "\n",
    "#     # Guardar en .txt si se solicita\n",
    "#     if guardar_txt:\n",
    "#         with open(guardar_txt, \"w\", encoding=\"utf-8\") as f:\n",
    "#             f.write(texto_final)\n",
    "\n",
    "#     return texto_final\n"
   ]
  },
  {
   "cell_type": "code",
   "execution_count": null,
   "id": "eae4bd01",
   "metadata": {},
   "outputs": [
    {
     "data": {
      "text/plain": [
       "<function functions.nuevos_avisos(avisos_totales, database)>"
      ]
     },
     "execution_count": 20,
     "metadata": {},
     "output_type": "execute_result"
    }
   ],
   "source": []
  },
  {
   "cell_type": "code",
   "execution_count": null,
   "id": "e0a841e3",
   "metadata": {},
   "outputs": [
    {
     "name": "stderr",
     "output_type": "stream",
     "text": [
      "c:\\Users\\hlussiatti\\Desktop\\BoletinOficial\\functions.py:52: FutureWarning: The behavior of DataFrame concatenation with empty or all-NA entries is deprecated. In a future version, this will no longer exclude empty or all-NA columns when determining the result dtypes. To retain the old behavior, exclude the relevant entries before the concat operation.\n",
      "  base = pd.concat([database, df_avisos], ignore_index=True)\n"
     ]
    }
   ],
   "source": [
    "if not df_nuevos_avisos.empty:\n",
    "    guardar_avisos(df_nuevos_avisos,database)\n",
    "    for index, row in df_nuevos_avisos.iterrows():\n",
    "        \n",
    "    \n",
    "        link_aviso = row['Link']\n",
    "        referencia = row['Referencia']\n",
    "        #ruta_completa = descargar_pdf(link_aviso, referencia)\n",
    "        \n",
    "        #detalle = obtener_detalles_aviso(link_aviso, referencia)\n",
    "\n",
    "        # texto = extraer_texto_pdf(ruta_completa, guardar_txt=\"salida.txt\")\n",
    "\n",
    "        #print(texto)\n",
    "        # hf_token = \"tu_token_de_huggingface_aquí\" \n",
    "        # match_considerando = re.search(r'CONSIDERANDO(.*?)(RESUELVE|ARTÍCULO\\s+\\d+)', texto, re.DOTALL)\n",
    "        # match_resuelve = re.search(r'RESUELVE(.*)', texto, re.DOTALL)\n",
    "\n",
    "        # considerando = match_considerando.group(1).strip() if match_considerando else \"\"\n",
    "        # resuelve = match_resuelve.group(1).strip() if match_resuelve else \"\"\n",
    "\n",
    "        # resumen_considerando = resumir_con_gpt4(considerando, \"CONSIDERANDO\")\n",
    "        # print(resumen_considerando)\n",
    "        \n",
    "\n",
    "\n",
    "\n",
    "        # #resumen = resumen_partes_pdf_espanol(ruta_completa, hf_token)\n",
    "        # # resumen = resumen_desde_huggingface(ruta_completa)\n",
    "        # resumen = resumen_partes_pdf_traducido(ruta_completa, hf_token)\n",
    "        # print(resumen)\n",
    "        break\n",
    "        # df_avisos.at[index, \"Resumen\"] = resumen\n"
   ]
  }
 ],
 "metadata": {
  "kernelspec": {
   "display_name": ".env",
   "language": "python",
   "name": "python3"
  },
  "language_info": {
   "codemirror_mode": {
    "name": "ipython",
    "version": 3
   },
   "file_extension": ".py",
   "mimetype": "text/x-python",
   "name": "python",
   "nbconvert_exporter": "python",
   "pygments_lexer": "ipython3",
   "version": "3.12.1"
  }
 },
 "nbformat": 4,
 "nbformat_minor": 5
}
